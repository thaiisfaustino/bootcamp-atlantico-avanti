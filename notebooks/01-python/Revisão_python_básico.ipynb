{
  "nbformat": 4,
  "nbformat_minor": 0,
  "metadata": {
    "colab": {
      "provenance": []
    },
    "kernelspec": {
      "name": "python3",
      "display_name": "Python 3"
    },
    "language_info": {
      "name": "python"
    }
  },
  "cells": [
    {
      "cell_type": "markdown",
      "source": [
        "# **Exercícios de revisão sobre a linguagem Python - Aula 2**"
      ],
      "metadata": {
        "id": "jEywXh6HZn3U"
      }
    },
    {
      "cell_type": "markdown",
      "source": [
        "## Variáveis e operadores\n",
        "\n",
        "**Crie um programa que leia dois números inteiros e imprima a soma, subtração, multiplicação e divisão entre eles.**"
      ],
      "metadata": {
        "id": "qrHjPyrcZ1OD"
      }
    },
    {
      "cell_type": "code",
      "source": [
        "def operacoes(a, b):\n",
        "\n",
        "  try:\n",
        "    adicao = a + b\n",
        "    subtracao = a - b\n",
        "    multiplicacao = a * b\n",
        "    divisao = a / b\n",
        "\n",
        "    print(f'''Soma: {adicao} \\n\n",
        "Subtração: {subtracao} \\n\n",
        "Multiplicação: {multiplicacao} \\n\n",
        "Divisão: {divisao}\n",
        "\n",
        "  ''')\n",
        "  except ZeroDivisionError:\n",
        "    return(\"Oops! Não é possível dividir por 0.\")"
      ],
      "metadata": {
        "id": "-81JOp9Gqowq"
      },
      "execution_count": null,
      "outputs": []
    },
    {
      "cell_type": "code",
      "source": [
        "operacoes(2, 4)"
      ],
      "metadata": {
        "colab": {
          "base_uri": "https://localhost:8080/"
        },
        "id": "IV40EqVSsmH7",
        "outputId": "5b59d6a8-2f7d-4a61-87a5-c80e02d08833"
      },
      "execution_count": null,
      "outputs": [
        {
          "output_type": "stream",
          "name": "stdout",
          "text": [
            "Soma: 6 \n",
            "\n",
            "Subtração: -2 \n",
            "\n",
            "Multiplicação: 8 \n",
            "\n",
            "Divisão: 0.5\n",
            "\n",
            "  \n"
          ]
        }
      ]
    },
    {
      "cell_type": "markdown",
      "source": [
        "**Escreva um programa que calcule a área de um circulo, solicitando o raio do usuário.**\n",
        "\n",
        "Area = π r²\n",
        "\n",
        "π = 3,14"
      ],
      "metadata": {
        "id": "7HO7tyuCd1Pr"
      }
    },
    {
      "cell_type": "code",
      "source": [
        "raio = float(input('Raio: '))\n",
        "area = (3.14 * (raio ** 2))\n",
        "print(f'A área do circulo é de {area}')"
      ],
      "metadata": {
        "colab": {
          "base_uri": "https://localhost:8080/"
        },
        "id": "RjwsfZNDq93y",
        "outputId": "08481ab6-6015-42ee-a167-9558cc4eee66"
      },
      "execution_count": null,
      "outputs": [
        {
          "output_type": "stream",
          "name": "stdout",
          "text": [
            "Raio: 2\n",
            "A área do circulo é de 12.56\n"
          ]
        }
      ]
    },
    {
      "cell_type": "markdown",
      "source": [
        "## Estruturas de seleção e repetição\n",
        "\n",
        "Escreva um programa que solicite a idade do usuário e imprima se ele é menor de idade ou maior de idade."
      ],
      "metadata": {
        "id": "4Hxi8AXPd8ZC"
      }
    },
    {
      "cell_type": "code",
      "source": [
        "idade = int(input('Idade: '))\n",
        "if (idade >= 0) and (idade < 18):\n",
        "  print(\"Menor de idade\")\n",
        "elif idade > 18:\n",
        "  print(\"Maior de idade\")\n",
        "else:\n",
        "  print(\"Idade inválida\")"
      ],
      "metadata": {
        "colab": {
          "base_uri": "https://localhost:8080/"
        },
        "id": "pe_eAnjbq_nB",
        "outputId": "971cfacc-19f5-4fa0-9e2c-908afe089b91"
      },
      "execution_count": null,
      "outputs": [
        {
          "output_type": "stream",
          "name": "stdout",
          "text": [
            "Idade: -4\n",
            "Idade inválida\n"
          ]
        }
      ]
    },
    {
      "cell_type": "markdown",
      "source": [
        "**Crie um programa que peça ao usuário para adivinhar um número secreto entre 1 e 100. O programa deve fornecer dicas se o palpite do usuário é maior ou menor que o número secreto, até que ele adivinhe corretamente.**"
      ],
      "metadata": {
        "id": "qFRW34pNeH9L"
      }
    },
    {
      "cell_type": "code",
      "source": [
        "numero_secreto = 18\n",
        "numero_usuario = int(input('Palpite de um número entre 1 e 100: '))\n",
        "while numero_usuario != numero_secreto:\n",
        "  if (numero_usuario < 1) or (numero_usuario > 100):\n",
        "    numero_usuario = int(input('Tente números entre 1 e 100: '))\n",
        "  elif numero_secreto > numero_usuario:\n",
        "    numero_usuario = int(input('Esse número é menor do que o número secreto! Tente novamente: '))\n",
        "  else:\n",
        "    numero_usuario = int(input('Esse número é maior do que o número secreto! Tente novamente: '))\n",
        "print('Parabens! Você acertou')"
      ],
      "metadata": {
        "colab": {
          "base_uri": "https://localhost:8080/"
        },
        "id": "-m0532Ytz92Z",
        "outputId": "2d7d5276-a7ed-4798-8723-e8d7b8a18a97"
      },
      "execution_count": null,
      "outputs": [
        {
          "output_type": "stream",
          "name": "stdout",
          "text": [
            "Palpite: 15\n",
            "Esse número é menor do que o número secreto! Tente novamente: 19\n",
            "Esse número é maior do que o número secreto! Tente novamente: 18\n",
            "Parabens! Você acertou\n"
          ]
        }
      ]
    },
    {
      "cell_type": "markdown",
      "source": [
        "## Coleções (Listas, tuplas, conjuntos)\n",
        "\n",
        "Escreva um programa que crie uma lista de 5 números inteiros e imprima os elementos dessa lista."
      ],
      "metadata": {
        "id": "j08pjXimeeti"
      }
    },
    {
      "cell_type": "code",
      "source": [
        "listaNumeros = []\n",
        "print ('Informe 5 numeros')\n",
        "for i in range(5):\n",
        "  listaNumeros.append(input('Numero '+ str(i+1) + ':\\n'))\n",
        "print (listaNumeros)"
      ],
      "metadata": {
        "colab": {
          "base_uri": "https://localhost:8080/"
        },
        "id": "OGHybKZ6Sn6h",
        "outputId": "9c2cb8be-b5b5-482e-b33e-23fd4ec92928"
      },
      "execution_count": null,
      "outputs": [
        {
          "output_type": "stream",
          "name": "stdout",
          "text": [
            "Informe 5 numeros\n",
            "Numero 1:\n",
            "1\n",
            "Numero 2:\n",
            "2\n",
            "Numero 3:\n",
            "3\n",
            "Numero 4:\n",
            "4\n",
            "Numero 5:\n",
            "5\n",
            "['1', '2', '3', '4', '5']\n"
          ]
        }
      ]
    },
    {
      "cell_type": "markdown",
      "source": [
        "**Crie uma tupla com os nomes de alguns animais. Em seguida, peça ao usuário para digitar o nome de um animal e verifique se ele está presente na tupla.**"
      ],
      "metadata": {
        "id": "aUaYdK7dexN6"
      }
    },
    {
      "cell_type": "code",
      "source": [
        "animais = ('cachorro', 'gato', 'calopsita', 'coelho', 'leão', 'tigre', 'elefante', 'girafa')\n",
        "\n",
        "animal_usuario = input('Digite o nome de um animal: ')\n",
        "if animal_usuario in animais:\n",
        "  print('Está presente nesta tupla')\n",
        "else:\n",
        "  print('Não está presente nesta tupla')"
      ],
      "metadata": {
        "colab": {
          "base_uri": "https://localhost:8080/"
        },
        "id": "mEFzEY50UEFI",
        "outputId": "a935c207-ee62-4951-a859-1c80d9ac2c7a"
      },
      "execution_count": null,
      "outputs": [
        {
          "output_type": "stream",
          "name": "stdout",
          "text": [
            "Digite o nome de um animal: onça\n",
            "Não está presente nesta tupla\n"
          ]
        }
      ]
    },
    {
      "cell_type": "markdown",
      "source": [
        "## Reutilização de código (Funções e módulos)\n",
        "Escreva uma função que receba o nome de uma pessoa como argumento e imprima uma mensagem de saudação."
      ],
      "metadata": {
        "id": "IoiGnNVgiXKz"
      }
    },
    {
      "cell_type": "code",
      "source": [
        "def saudacao (nome):\n",
        "  print(f'Olá, {nome}! Prazer em vê-la aqui.')"
      ],
      "metadata": {
        "id": "umPi8Yml4j-g"
      },
      "execution_count": null,
      "outputs": []
    },
    {
      "cell_type": "code",
      "source": [
        "saudacao('Thais')"
      ],
      "metadata": {
        "colab": {
          "base_uri": "https://localhost:8080/"
        },
        "id": "O37lSF6f5XQz",
        "outputId": "51ae24c4-af0e-4f40-d481-883a762b945d"
      },
      "execution_count": null,
      "outputs": [
        {
          "output_type": "stream",
          "name": "stdout",
          "text": [
            "Olá, Thais! Prazer em vê-la aqui.\n"
          ]
        }
      ]
    },
    {
      "cell_type": "markdown",
      "source": [
        "**Implemente um módulo contendo uma função que verifique se um número é primo.**"
      ],
      "metadata": {
        "id": "DhrcC68-o45Y"
      }
    },
    {
      "cell_type": "code",
      "source": [
        "def numero_primo(numero):\n",
        "  contador = 0\n",
        "  if ((numero == 0) | (numero ==1)):\n",
        "    return('Não é primo')\n",
        "  else:\n",
        "    for i in range(2, numero+1):\n",
        "      if numero % i == 0:\n",
        "        contador = contador + 1\n",
        "    if contador <= 2:\n",
        "      return(f'O numero {numero} é divisivel somente {contador} vez, portanto é um número primo')\n",
        "    else:\n",
        "      return(f'O numero {numero} pode ser dividido por {contador} números, portanto ele não é um numero primo')"
      ],
      "metadata": {
        "id": "Wqk3CY1Vj6AI"
      },
      "execution_count": null,
      "outputs": []
    },
    {
      "cell_type": "code",
      "source": [
        "numero_primo(7)"
      ],
      "metadata": {
        "colab": {
          "base_uri": "https://localhost:8080/",
          "height": 35
        },
        "id": "PsaZcmHaq0gL",
        "outputId": "9b65d13f-1ff2-467c-a24a-2904c6324240"
      },
      "execution_count": null,
      "outputs": [
        {
          "output_type": "execute_result",
          "data": {
            "text/plain": [
              "'O numero 7 é divisivel somente 1 vez, portanto é um número primo'"
            ],
            "application/vnd.google.colaboratory.intrinsic+json": {
              "type": "string"
            }
          },
          "metadata": {},
          "execution_count": 35
        }
      ]
    }
  ]
}